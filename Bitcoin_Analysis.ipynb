{
  "nbformat": 4,
  "nbformat_minor": 0,
  "metadata": {
    "colab": {
      "name": "Untitled1.ipynb",
      "provenance": [],
      "collapsed_sections": [],
      "authorship_tag": "ABX9TyPWJMBpMAySjuEGOqesKgpW"
    },
    "kernelspec": {
      "name": "python3",
      "display_name": "Python 3"
    }
  },
  "cells": [
    {
      "cell_type": "markdown",
      "metadata": {
        "id": "E8EGZNW_27h_",
        "colab_type": "text"
      },
      "source": [
        "# **Bitcoin Analysis Using Time Series and Artificial Networks LSTM.**"
      ]
    },
    {
      "cell_type": "markdown",
      "metadata": {
        "id": "_4NiAsIm2598",
        "colab_type": "text"
      },
      "source": [
        "#### **Descripción del problema.**\n",
        "\n",
        "Se trata de predecir el precio del Bitcoin mediante el uso de modelos de series de tiempo y redes neuronales recurrentes de tipo LSTM."
      ]
    },
    {
      "cell_type": "code",
      "metadata": {
        "id": "qf35Tabrltjo",
        "colab_type": "code",
        "colab": {}
      },
      "source": [
        "%matplotlib inline\n",
        "import numpy as np\n",
        "import pandas as pd\n",
        "pd.set_option(\"display.float_format\", lambda x: \"%.4f\" % x)\n",
        "from IPython.core.interactiveshell import InteractiveShell\n",
        "InteractiveShell.ast_node_interactivity = \"all\""
      ],
      "execution_count": 0,
      "outputs": []
    },
    {
      "cell_type": "markdown",
      "metadata": {
        "id": "a24RqKvi6KCR",
        "colab_type": "text"
      },
      "source": [
        "#### **Parámetros del notebook.**"
      ]
    },
    {
      "cell_type": "code",
      "metadata": {
        "id": "YlFl31NnlyXd",
        "colab_type": "code",
        "colab": {}
      },
      "source": [
        "DATASET            = \"https://raw.githubusercontent.com/ejdecena/TS-LSTM-Bitcoin-Analysis/master/BTC-USD.csv\"\n",
        "DAYS               = 3\n",
        "USE_COLS           = [\"Date\", \"Close\", \"Volume\"]\n",
        "SIGNIFICANCE_LEVEL = 0.05\n",
        "DAYS_PREDICT       = 4\n",
        "TRAIN_SIZE         = 0.80\n",
        "RANDOM_SEED        = 27\n",
        "\n",
        "np.random.seed(RANDOM_SEED)"
      ],
      "execution_count": 0,
      "outputs": []
    },
    {
      "cell_type": "markdown",
      "metadata": {
        "id": "DT334Rol7DpK",
        "colab_type": "text"
      },
      "source": [
        "#### **Carga de los datos del dataset.**"
      ]
    },
    {
      "cell_type": "code",
      "metadata": {
        "id": "s8ghKXQhl976",
        "colab_type": "code",
        "colab": {
          "base_uri": "https://localhost:8080/",
          "height": 158
        },
        "outputId": "c2f24aaa-bd73-4ad9-f3c4-cbe6af34ec8a"
      },
      "source": [
        "data         = pd.read_csv(DATASET, usecols=USE_COLS)\n",
        "data[\"Date\"] = pd.to_datetime(data[\"Date\"])\n",
        "print(data.head())\n",
        "print(\"\\nRows: {}. Columns: {}.\".format(*data.shape))"
      ],
      "execution_count": 3,
      "outputs": [
        {
          "output_type": "stream",
          "text": [
            "        Date    Close    Volume\n",
            "0 2016-05-22 439.3230  39657600\n",
            "1 2016-05-23 444.1550  50582500\n",
            "2 2016-05-24 445.9810  65783100\n",
            "3 2016-05-25 449.5990  65231000\n",
            "4 2016-05-26 453.3840  65203800\n",
            "\n",
            "Rows: 1462. Columns: 3.\n"
          ],
          "name": "stdout"
        }
      ]
    },
    {
      "cell_type": "markdown",
      "metadata": {
        "id": "rzDJ6QAq6Wcq",
        "colab_type": "text"
      },
      "source": [
        "#### **Revisión de los datos.**"
      ]
    },
    {
      "cell_type": "code",
      "metadata": {
        "id": "Fyjwrz-061yt",
        "colab_type": "code",
        "colab": {
          "base_uri": "https://localhost:8080/",
          "height": 386
        },
        "outputId": "8d401e6f-310f-4050-aa98-bbb790dbf692"
      },
      "source": [
        "print(\"Null Values:\")\n",
        "print(\"------------\\n\")\n",
        "data.isnull().sum()\n",
        "print(\"\\n\\nData Info:\")\n",
        "print(\"----------\\n\")\n",
        "data.info()"
      ],
      "execution_count": 4,
      "outputs": [
        {
          "output_type": "stream",
          "text": [
            "Null Values:\n",
            "------------\n",
            "\n"
          ],
          "name": "stdout"
        },
        {
          "output_type": "execute_result",
          "data": {
            "text/plain": [
              "Date      0\n",
              "Close     0\n",
              "Volume    0\n",
              "dtype: int64"
            ]
          },
          "metadata": {
            "tags": []
          },
          "execution_count": 4
        },
        {
          "output_type": "stream",
          "text": [
            "\n",
            "\n",
            "Data Info:\n",
            "----------\n",
            "\n",
            "<class 'pandas.core.frame.DataFrame'>\n",
            "RangeIndex: 1462 entries, 0 to 1461\n",
            "Data columns (total 3 columns):\n",
            " #   Column  Non-Null Count  Dtype         \n",
            "---  ------  --------------  -----         \n",
            " 0   Date    1462 non-null   datetime64[ns]\n",
            " 1   Close   1462 non-null   float64       \n",
            " 2   Volume  1462 non-null   int64         \n",
            "dtypes: datetime64[ns](1), float64(1), int64(1)\n",
            "memory usage: 34.4 KB\n"
          ],
          "name": "stdout"
        }
      ]
    },
    {
      "cell_type": "markdown",
      "metadata": {
        "id": "NQ7Ljweh8NEp",
        "colab_type": "text"
      },
      "source": [
        "#### **Visualización de los datos.**"
      ]
    },
    {
      "cell_type": "code",
      "metadata": {
        "id": "4w5XmqmL8L2O",
        "colab_type": "code",
        "colab": {}
      },
      "source": [
        "import matplotlib.pyplot as plt\n",
        "plt.style.use(\"ggplot\")"
      ],
      "execution_count": 0,
      "outputs": []
    },
    {
      "cell_type": "code",
      "metadata": {
        "id": "qoEEYsLG82hO",
        "colab_type": "code",
        "colab": {
          "base_uri": "https://localhost:8080/",
          "height": 571
        },
        "outputId": "d469250a-74c0-4a6c-e313-fc9bd306d5c2"
      },
      "source": [
        "plt.figure(figsize=(8, 8))\n",
        "\n",
        "plt.subplot(2, 1, 1)\n",
        "plt.plot(data[\"Date\"], data[\"Close\"], color=\"b\", label=\"Price\")\n",
        "plt.ylabel('Price')\n",
        "plt.legend(loc=\"upper right\")\n",
        "\n",
        "plt.subplot(2, 1, 2)\n",
        "plt.plot(data[\"Date\"], data[\"Volume\"], color=\"g\", label=\"Volume\")\n",
        "plt.ylabel('Volume')\n",
        "plt.legend(loc=\"upper right\")\n",
        "\n",
        "plt.show()"
      ],
      "execution_count": 6,
      "outputs": [
        {
          "output_type": "execute_result",
          "data": {
            "text/plain": [
              "<Figure size 576x576 with 0 Axes>"
            ]
          },
          "metadata": {
            "tags": []
          },
          "execution_count": 6
        },
        {
          "output_type": "execute_result",
          "data": {
            "text/plain": [
              "<matplotlib.axes._subplots.AxesSubplot at 0x7f1e877a3668>"
            ]
          },
          "metadata": {
            "tags": []
          },
          "execution_count": 6
        },
        {
          "output_type": "execute_result",
          "data": {
            "text/plain": [
              "[<matplotlib.lines.Line2D at 0x7f1e877b76d8>]"
            ]
          },
          "metadata": {
            "tags": []
          },
          "execution_count": 6
        },
        {
          "output_type": "execute_result",
          "data": {
            "text/plain": [
              "Text(0, 0.5, 'Price')"
            ]
          },
          "metadata": {
            "tags": []
          },
          "execution_count": 6
        },
        {
          "output_type": "execute_result",
          "data": {
            "text/plain": [
              "<matplotlib.legend.Legend at 0x7f1e87793080>"
            ]
          },
          "metadata": {
            "tags": []
          },
          "execution_count": 6
        },
        {
          "output_type": "execute_result",
          "data": {
            "text/plain": [
              "<matplotlib.axes._subplots.AxesSubplot at 0x7f1e87777e10>"
            ]
          },
          "metadata": {
            "tags": []
          },
          "execution_count": 6
        },
        {
          "output_type": "execute_result",
          "data": {
            "text/plain": [
              "[<matplotlib.lines.Line2D at 0x7f1e87723710>]"
            ]
          },
          "metadata": {
            "tags": []
          },
          "execution_count": 6
        },
        {
          "output_type": "execute_result",
          "data": {
            "text/plain": [
              "Text(0, 0.5, 'Volume')"
            ]
          },
          "metadata": {
            "tags": []
          },
          "execution_count": 6
        },
        {
          "output_type": "execute_result",
          "data": {
            "text/plain": [
              "<matplotlib.legend.Legend at 0x7f1e87748eb8>"
            ]
          },
          "metadata": {
            "tags": []
          },
          "execution_count": 6
        },
        {
          "output_type": "display_data",
          "data": {
            "image/png": "[encoded data removed]",
            "text/plain": [
              "<Figure size 576x576 with 2 Axes>"
            ]
          },
          "metadata": {
            "tags": []
          }
        }
      ]
    },
    {
      "cell_type": "code",
      "metadata": {
        "id": "BRA-Aj1b-KrO",
        "colab_type": "code",
        "colab": {
          "base_uri": "https://localhost:8080/",
          "height": 566
        },
        "outputId": "e1ffebaf-07e6-445a-c2e2-9103f757b009"
      },
      "source": [
        "plt.figure(figsize=(8, 5))\n",
        "label = \"Mean: {:.2f}\\nStd: {:.2f}\".format(data[\"Close\"].mean(), data[\"Close\"].std())\n",
        "plt.hist(data[\"Close\"], color=\"b\", label=label, bins=30)\n",
        "plt.title(\"Frequency Histogram\")\n",
        "plt.ylabel('Frequency')\n",
        "plt.legend(loc=\"upper right\")\n",
        "plt.show()"
      ],
      "execution_count": 7,
      "outputs": [
        {
          "output_type": "execute_result",
          "data": {
            "text/plain": [
              "<Figure size 576x360 with 0 Axes>"
            ]
          },
          "metadata": {
            "tags": []
          },
          "execution_count": 7
        },
        {
          "output_type": "execute_result",
          "data": {
            "text/plain": [
              "(array([286.,  65.,  30.,  59.,  40., 127.,  35.,  37.,  37., 147., 101.,\n",
              "         85.,  94.,  84.,  68.,  58.,  31.,  26.,   8.,   4.,   3.,   8.,\n",
              "          6.,   5.,   3.,   6.,   3.,   3.,   0.,   3.]),\n",
              " array([  439.322998  ,  1074.59224443,  1709.86149087,  2345.1307373 ,\n",
              "         2980.39998373,  3615.66923017,  4250.9384766 ,  4886.20772303,\n",
              "         5521.47696947,  6156.7462159 ,  6792.01546233,  7427.28470877,\n",
              "         8062.5539552 ,  8697.82320163,  9333.09244807,  9968.3616945 ,\n",
              "        10603.63094093, 11238.90018737, 11874.1694338 , 12509.43868023,\n",
              "        13144.70792667, 13779.9771731 , 14415.24641953, 15050.51566597,\n",
              "        15685.7849124 , 16321.05415883, 16956.32340527, 17591.5926517 ,\n",
              "        18226.86189813, 18862.13114457, 19497.400391  ]),\n",
              " <a list of 30 Patch objects>)"
            ]
          },
          "metadata": {
            "tags": []
          },
          "execution_count": 7
        },
        {
          "output_type": "execute_result",
          "data": {
            "text/plain": [
              "Text(0.5, 1.0, 'Frequency Histogram')"
            ]
          },
          "metadata": {
            "tags": []
          },
          "execution_count": 7
        },
        {
          "output_type": "execute_result",
          "data": {
            "text/plain": [
              "Text(0, 0.5, 'Frequency')"
            ]
          },
          "metadata": {
            "tags": []
          },
          "execution_count": 7
        },
        {
          "output_type": "execute_result",
          "data": {
            "text/plain": [
              "<matplotlib.legend.Legend at 0x7f1e871dd8d0>"
            ]
          },
          "metadata": {
            "tags": []
          },
          "execution_count": 7
        },
        {
          "output_type": "display_data",
          "data": {
            "image/png": "[encoded data removed]",
            "text/plain": [
              "<Figure size 576x360 with 1 Axes>"
            ]
          },
          "metadata": {
            "tags": []
          }
        }
      ]
    },
    {
      "cell_type": "markdown",
      "metadata": {
        "id": "qaTti-yOCOtE",
        "colab_type": "text"
      },
      "source": [
        "#### **Dickey-Fuller Stationarity Test.**\n",
        "\n",
        "The null hypothesis of the test is that the time series can be represented by a unit root, that it is not stationary (has some time-dependent structure). The alternate hypothesis (rejecting the null hypothesis) is that the time series is stationary.\n",
        "\n",
        "* **Null Hypothesis (H0)**: If failed to be rejected, it suggests the time series has a unit root, meaning it is non-stationary. It has some time dependent structure.\n",
        "* **Alternate Hypothesis (H1)**: The null hypothesis is rejected; it suggests the time series does not have a unit root, meaning it is stationary. It does not have time-dependent structure.\n",
        "\n",
        "We interpret this result using the *p-value* from the test. A *p-value* below a threshold (such as 5% or 1%) suggests we reject the null hypothesis (stationary), otherwise a p-value above the threshold suggests we fail to reject the null hypothesis (non-stationary).\n",
        "\n",
        "* **p-value > 0.05**: Fail to reject the null hypothesis (H0), the data has a unit root and is non-stationary.\n",
        "* **p-value <= 0.05**: Reject the null hypothesis (H0), the data does not have a unit root and is stationary."
      ]
    },
    {
      "cell_type": "code",
      "metadata": {
        "id": "040CF981CkbJ",
        "colab_type": "code",
        "colab": {
          "base_uri": "https://localhost:8080/",
          "height": 213
        },
        "outputId": "e3b155d5-2401-4f86-e9da-b5dce292f1d5"
      },
      "source": [
        "from statsmodels.tsa.stattools import adfuller\n",
        "\n",
        "result = adfuller(data[\"Close\"].values)\n",
        "print('ADF Statistic: {}'.format(result[0]))\n",
        "print('p-value: {}'.format(result[1]))\n",
        "print('Critical Values:')\n",
        "for key, value in result[4].items():\n",
        "\tprint('\\t%{}: {:.4f}'.format(key, value))\n",
        " \n",
        "if result[1] > SIGNIFICANCE_LEVEL:\n",
        "  print(\"\\nThe data is non-stationary.\")\n",
        "else:\n",
        "  print(\"\\nThe data is stationary.\")"
      ],
      "execution_count": 8,
      "outputs": [
        {
          "output_type": "stream",
          "text": [
            "/usr/local/lib/python3.6/dist-packages/statsmodels/tools/_testing.py:19: FutureWarning: pandas.util.testing is deprecated. Use the functions in the public API at pandas.testing instead.\n",
            "  import pandas.util.testing as tm\n"
          ],
          "name": "stderr"
        },
        {
          "output_type": "stream",
          "text": [
            "ADF Statistic: -2.1696657674716597\n",
            "p-value: 0.21743862103668898\n",
            "Critical Values:\n",
            "\t%1%: -3.4349\n",
            "\t%5%: -2.8635\n",
            "\t%10%: -2.5678\n",
            "\n",
            "The data is non-stationary.\n"
          ],
          "name": "stdout"
        }
      ]
    },
    {
      "cell_type": "markdown",
      "metadata": {
        "id": "Ow1IkwCiO-Zs",
        "colab_type": "text"
      },
      "source": [
        "#### **RSI calculation and data scaling.**"
      ]
    },
    {
      "cell_type": "code",
      "metadata": {
        "id": "qGt52puGmDH0",
        "colab_type": "code",
        "colab": {
          "base_uri": "https://localhost:8080/",
          "height": 230
        },
        "outputId": "a97971eb-2847-4577-b2b3-8a742aab573c"
      },
      "source": [
        "from sklearn.preprocessing import MinMaxScaler\n",
        "\n",
        "scaler = MinMaxScaler(feature_range=(0, 1))\n",
        "price  = data[\"Close\"].values.reshape(-1, 1)\n",
        "price  = scaler.fit_transform(price)\n",
        "\n",
        "data[\"U\"]   = 0\n",
        "data[\"D\"]   = 0\n",
        "data[\"t+1\"] = np.nan\n",
        "\n",
        "data.loc[0, \"U\"] = np.nan\n",
        "data.loc[0, \"D\"] = np.nan\n",
        "\n",
        "for i in range(1, len(data)):\n",
        "    gap = data.loc[i, \"Close\"] - data.loc[i-1, \"Close\"]\n",
        "    if gap > 0:\n",
        "        data.loc[i, \"U\"]  = gap\n",
        "        if i >= DAYS:\n",
        "            data.loc[i,\"t+1\"] = 1  # If the price went up.\n",
        "    else:\n",
        "        data.loc[i, \"D\"]  = -gap\n",
        "        if i >= DAYS:\n",
        "            data.loc[i,\"t+1\"] = -1 # If the price went down.\n",
        "\n",
        "data[\"MA_U\"] = data[\"U\"].rolling(window=DAYS).mean()\n",
        "data[\"MA_D\"] = data[\"D\"].rolling(window=DAYS).mean()\n",
        "data[\"RSI\"]  = 100*(data[\"MA_U\"]/(data[\"MA_U\"] + data[\"MA_D\"]))\n",
        "\n",
        "data[\"Clo_Scaled\"]= scaler.fit_transform(data[[\"Close\"]])\n",
        "data[\"Vol_Scaled\"]= scaler.fit_transform(data[[\"Volume\"]])\n",
        "data[\"RSI_Scaled\"]= scaler.fit_transform(data[[\"RSI\"]])\n",
        "\n",
        "added = [\"Clo_Scaled\",\"Vol_Scaled\", \"U\", \"D\", \"MA_U\", \"MA_D\", \"RSI\", \"RSI_Scaled\", \"t+1\"]\n",
        "USE_COLS.extend(added)\n",
        "data = data[USE_COLS]\n",
        "print(\"FINAL DATASET:\")\n",
        "data.head()\n",
        "print(\"Rows: {}. Columns: {}.\".format(*data.shape))"
      ],
      "execution_count": 9,
      "outputs": [
        {
          "output_type": "stream",
          "text": [
            "FINAL DATASET:\n"
          ],
          "name": "stdout"
        },
        {
          "output_type": "execute_result",
          "data": {
            "text/html": [
              "<div>\n",
              "<style scoped>\n",
              "    .dataframe tbody tr th:only-of-type {\n",
              "        vertical-align: middle;\n",
              "    }\n",
              "\n",
              "    .dataframe tbody tr th {\n",
              "        vertical-align: top;\n",
              "    }\n",
              "\n",
              "    .dataframe thead th {\n",
              "        text-align: right;\n",
              "    }\n",
              "</style>\n",
              "<table border=\"1\" class=\"dataframe\">\n",
              "  <thead>\n",
              "    <tr style=\"text-align: right;\">\n",
              "      <th></th>\n",
              "      <th>Date</th>\n",
              "      <th>Close</th>\n",
              "      <th>Volume</th>\n",
              "      <th>Clo_Scaled</th>\n",
              "      <th>Vol_Scaled</th>\n",
              "      <th>U</th>\n",
              "      <th>D</th>\n",
              "      <th>MA_U</th>\n",
              "      <th>MA_D</th>\n",
              "      <th>RSI</th>\n",
              "      <th>RSI_Scaled</th>\n",
              "      <th>t+1</th>\n",
              "    </tr>\n",
              "  </thead>\n",
              "  <tbody>\n",
              "    <tr>\n",
              "      <th>0</th>\n",
              "      <td>2016-05-22</td>\n",
              "      <td>439.3230</td>\n",
              "      <td>39657600</td>\n",
              "      <td>0.0000</td>\n",
              "      <td>0.0001</td>\n",
              "      <td>nan</td>\n",
              "      <td>nan</td>\n",
              "      <td>nan</td>\n",
              "      <td>nan</td>\n",
              "      <td>nan</td>\n",
              "      <td>nan</td>\n",
              "      <td>nan</td>\n",
              "    </tr>\n",
              "    <tr>\n",
              "      <th>1</th>\n",
              "      <td>2016-05-23</td>\n",
              "      <td>444.1550</td>\n",
              "      <td>50582500</td>\n",
              "      <td>0.0003</td>\n",
              "      <td>0.0002</td>\n",
              "      <td>4.8320</td>\n",
              "      <td>0.0000</td>\n",
              "      <td>nan</td>\n",
              "      <td>nan</td>\n",
              "      <td>nan</td>\n",
              "      <td>nan</td>\n",
              "      <td>nan</td>\n",
              "    </tr>\n",
              "    <tr>\n",
              "      <th>2</th>\n",
              "      <td>2016-05-24</td>\n",
              "      <td>445.9810</td>\n",
              "      <td>65783100</td>\n",
              "      <td>0.0003</td>\n",
              "      <td>0.0004</td>\n",
              "      <td>1.8260</td>\n",
              "      <td>0.0000</td>\n",
              "      <td>nan</td>\n",
              "      <td>nan</td>\n",
              "      <td>nan</td>\n",
              "      <td>nan</td>\n",
              "      <td>nan</td>\n",
              "    </tr>\n",
              "    <tr>\n",
              "      <th>3</th>\n",
              "      <td>2016-05-25</td>\n",
              "      <td>449.5990</td>\n",
              "      <td>65231000</td>\n",
              "      <td>0.0005</td>\n",
              "      <td>0.0004</td>\n",
              "      <td>3.6180</td>\n",
              "      <td>0.0000</td>\n",
              "      <td>3.4253</td>\n",
              "      <td>0.0000</td>\n",
              "      <td>100.0000</td>\n",
              "      <td>1.0000</td>\n",
              "      <td>1.0000</td>\n",
              "    </tr>\n",
              "    <tr>\n",
              "      <th>4</th>\n",
              "      <td>2016-05-26</td>\n",
              "      <td>453.3840</td>\n",
              "      <td>65203800</td>\n",
              "      <td>0.0007</td>\n",
              "      <td>0.0004</td>\n",
              "      <td>3.7850</td>\n",
              "      <td>0.0000</td>\n",
              "      <td>3.0763</td>\n",
              "      <td>0.0000</td>\n",
              "      <td>100.0000</td>\n",
              "      <td>1.0000</td>\n",
              "      <td>1.0000</td>\n",
              "    </tr>\n",
              "  </tbody>\n",
              "</table>\n",
              "</div>"
            ],
            "text/plain": [
              "        Date    Close    Volume  Clo_Scaled  ...   MA_D      RSI  RSI_Scaled    t+1\n",
              "0 2016-05-22 439.3230  39657600      0.0000  ...    nan      nan         nan    nan\n",
              "1 2016-05-23 444.1550  50582500      0.0003  ...    nan      nan         nan    nan\n",
              "2 2016-05-24 445.9810  65783100      0.0003  ...    nan      nan         nan    nan\n",
              "3 2016-05-25 449.5990  65231000      0.0005  ... 0.0000 100.0000      1.0000 1.0000\n",
              "4 2016-05-26 453.3840  65203800      0.0007  ... 0.0000 100.0000      1.0000 1.0000\n",
              "\n",
              "[5 rows x 12 columns]"
            ]
          },
          "metadata": {
            "tags": []
          },
          "execution_count": 9
        },
        {
          "output_type": "stream",
          "text": [
            "Rows: 1462. Columns: 12.\n"
          ],
          "name": "stdout"
        }
      ]
    },
    {
      "cell_type": "markdown",
      "metadata": {
        "id": "3oOfGpNzRnP4",
        "colab_type": "text"
      },
      "source": [
        "#### **Preprocesado de los datos y división del dataset.**"
      ]
    },
    {
      "cell_type": "code",
      "metadata": {
        "id": "73E6Nev4mI9F",
        "colab_type": "code",
        "colab": {
          "base_uri": "https://localhost:8080/",
          "height": 34
        },
        "outputId": "aea8ce5b-620f-470e-d103-c4c3aadad8e9"
      },
      "source": [
        "SEQ_LEN = 100\n",
        "\n",
        "def to_sequences(data, seq_len):\n",
        "    d = []\n",
        "\n",
        "    for index in range(len(data) - seq_len):\n",
        "        d.append(data[index: index + seq_len])\n",
        "\n",
        "    return np.array(d)\n",
        "\n",
        "def preprocess(data_raw, seq_len, train_split):\n",
        "\n",
        "    data = to_sequences(data_raw, seq_len)\n",
        "\n",
        "    num_train = int(train_split * data.shape[0])\n",
        "\n",
        "    X_train = data[:num_train, :-1, :]\n",
        "    y_train = data[:num_train, -1, :]\n",
        "\n",
        "    X_test = data[num_train:, :-1, :]\n",
        "    y_test = data[num_train:, -1, :]\n",
        "\n",
        "    return X_train, y_train, X_test, y_test\n",
        "\n",
        "X_train, y_train, X_test, y_test = preprocess(price, SEQ_LEN, train_split=TRAIN_SIZE)\n",
        "print(\"X Train:\", X_train.shape, \"X Test:\", X_test.shape)"
      ],
      "execution_count": 10,
      "outputs": [
        {
          "output_type": "stream",
          "text": [
            "X Train: (1089, 99, 1) X Test: (273, 99, 1)\n"
          ],
          "name": "stdout"
        }
      ]
    },
    {
      "cell_type": "code",
      "metadata": {
        "id": "VrHy_aDlmUQT",
        "colab_type": "code",
        "colab": {}
      },
      "source": [
        "from tensorflow.keras.models import Sequential\n",
        "from tensorflow.keras.layers import Bidirectional, Dropout, Activation, Dense, LSTM"
      ],
      "execution_count": 0,
      "outputs": []
    },
    {
      "cell_type": "code",
      "metadata": {
        "id": "0Cv13zVCmb3D",
        "colab_type": "code",
        "colab": {
          "base_uri": "https://localhost:8080/",
          "height": 298
        },
        "outputId": "519ac02a-a8e1-416f-d0a0-72d4661a2051"
      },
      "source": [
        "DROPOUT     = 0.2\n",
        "WINDOW_SIZE = SEQ_LEN - 1\n",
        "\n",
        "model = Sequential()\n",
        "\n",
        "model.add(Bidirectional(LSTM(WINDOW_SIZE, return_sequences=True),\n",
        "                        input_shape=(WINDOW_SIZE, X_train.shape[-1])))\n",
        "model.add(Dropout(rate=DROPOUT))\n",
        "model.add(Dense(units=1))\n",
        "\n",
        "model.add(Activation('linear'))\n",
        "model.summary()"
      ],
      "execution_count": 12,
      "outputs": [
        {
          "output_type": "stream",
          "text": [
            "Model: \"sequential\"\n",
            "_________________________________________________________________\n",
            "Layer (type)                 Output Shape              Param #   \n",
            "=================================================================\n",
            "bidirectional (Bidirectional (None, 99, 198)           79992     \n",
            "_________________________________________________________________\n",
            "dropout (Dropout)            (None, 99, 198)           0         \n",
            "_________________________________________________________________\n",
            "dense (Dense)                (None, 99, 1)             199       \n",
            "_________________________________________________________________\n",
            "activation (Activation)      (None, 99, 1)             0         \n",
            "=================================================================\n",
            "Total params: 80,191\n",
            "Trainable params: 80,191\n",
            "Non-trainable params: 0\n",
            "_________________________________________________________________\n"
          ],
          "name": "stdout"
        }
      ]
    },
    {
      "cell_type": "code",
      "metadata": {
        "id": "S8UvIW0Emh4t",
        "colab_type": "code",
        "colab": {
          "base_uri": "https://localhost:8080/",
          "height": 1000
        },
        "outputId": "a5162162-e0c5-4cec-ac7a-4df31e400f8a"
      },
      "source": [
        "model.compile(loss='mean_squared_error', optimizer='adam')\n",
        "BATCH_SIZE = 64\n",
        "\n",
        "history = model.fit(\n",
        "    X_train, \n",
        "    y_train, \n",
        "    epochs=50, \n",
        "    batch_size=BATCH_SIZE, \n",
        "    shuffle=False,\n",
        "    validation_split=0.1\n",
        ")"
      ],
      "execution_count": 13,
      "outputs": [
        {
          "output_type": "stream",
          "text": [
            "Epoch 1/50\n",
            "16/16 [==============================] - 3s 213ms/step - loss: 0.0244 - val_loss: 0.0259\n",
            "Epoch 2/50\n",
            "16/16 [==============================] - 3s 160ms/step - loss: 0.0210 - val_loss: 0.0299\n",
            "Epoch 3/50\n",
            "16/16 [==============================] - 3s 159ms/step - loss: 0.0171 - val_loss: 0.0369\n",
            "Epoch 4/50\n",
            "16/16 [==============================] - 3s 158ms/step - loss: 0.0177 - val_loss: 0.0311\n",
            "Epoch 5/50\n",
            "16/16 [==============================] - 3s 158ms/step - loss: 0.0165 - val_loss: 0.0329\n",
            "Epoch 6/50\n",
            "16/16 [==============================] - 3s 157ms/step - loss: 0.0169 - val_loss: 0.0312\n",
            "Epoch 7/50\n",
            "16/16 [==============================] - 3s 158ms/step - loss: 0.0163 - val_loss: 0.0316\n",
            "Epoch 8/50\n",
            "16/16 [==============================] - 3s 160ms/step - loss: 0.0164 - val_loss: 0.0308\n",
            "Epoch 9/50\n",
            "16/16 [==============================] - 3s 159ms/step - loss: 0.0162 - val_loss: 0.0309\n",
            "Epoch 10/50\n",
            "16/16 [==============================] - 3s 160ms/step - loss: 0.0162 - val_loss: 0.0302\n",
            "Epoch 11/50\n",
            "16/16 [==============================] - 3s 161ms/step - loss: 0.0160 - val_loss: 0.0301\n",
            "Epoch 12/50\n",
            "16/16 [==============================] - 3s 158ms/step - loss: 0.0160 - val_loss: 0.0289\n",
            "Epoch 13/50\n",
            "16/16 [==============================] - 3s 158ms/step - loss: 0.0157 - val_loss: 0.0333\n",
            "Epoch 14/50\n",
            "16/16 [==============================] - 3s 160ms/step - loss: 0.0179 - val_loss: 0.0299\n",
            "Epoch 15/50\n",
            "16/16 [==============================] - 3s 158ms/step - loss: 0.0166 - val_loss: 0.0286\n",
            "Epoch 16/50\n",
            "16/16 [==============================] - 3s 158ms/step - loss: 0.0168 - val_loss: 0.0296\n",
            "Epoch 17/50\n",
            "16/16 [==============================] - 3s 159ms/step - loss: 0.0159 - val_loss: 0.0285\n",
            "Epoch 18/50\n",
            "16/16 [==============================] - 3s 160ms/step - loss: 0.0157 - val_loss: 0.0286\n",
            "Epoch 19/50\n",
            "16/16 [==============================] - 3s 158ms/step - loss: 0.0155 - val_loss: 0.0277\n",
            "Epoch 20/50\n",
            "16/16 [==============================] - 3s 161ms/step - loss: 0.0154 - val_loss: 0.0272\n",
            "Epoch 21/50\n",
            "16/16 [==============================] - 3s 160ms/step - loss: 0.0152 - val_loss: 0.0264\n",
            "Epoch 22/50\n",
            "16/16 [==============================] - 3s 163ms/step - loss: 0.0152 - val_loss: 0.0255\n",
            "Epoch 23/50\n",
            "16/16 [==============================] - 3s 159ms/step - loss: 0.0151 - val_loss: 0.0248\n",
            "Epoch 24/50\n",
            "16/16 [==============================] - 3s 159ms/step - loss: 0.0150 - val_loss: 0.0246\n",
            "Epoch 25/50\n",
            "16/16 [==============================] - 3s 161ms/step - loss: 0.0149 - val_loss: 0.0246\n",
            "Epoch 26/50\n",
            "16/16 [==============================] - 3s 162ms/step - loss: 0.0149 - val_loss: 0.0243\n",
            "Epoch 27/50\n",
            "16/16 [==============================] - 3s 160ms/step - loss: 0.0148 - val_loss: 0.0243\n",
            "Epoch 28/50\n",
            "16/16 [==============================] - 3s 159ms/step - loss: 0.0150 - val_loss: 0.0246\n",
            "Epoch 29/50\n",
            "16/16 [==============================] - 3s 160ms/step - loss: 0.0148 - val_loss: 0.0244\n",
            "Epoch 30/50\n",
            "16/16 [==============================] - 3s 163ms/step - loss: 0.0154 - val_loss: 0.0266\n",
            "Epoch 31/50\n",
            "16/16 [==============================] - 3s 159ms/step - loss: 0.0149 - val_loss: 0.0246\n",
            "Epoch 32/50\n",
            "16/16 [==============================] - 3s 163ms/step - loss: 0.0152 - val_loss: 0.0245\n",
            "Epoch 33/50\n",
            "16/16 [==============================] - 3s 165ms/step - loss: 0.0148 - val_loss: 0.0240\n",
            "Epoch 34/50\n",
            "16/16 [==============================] - 3s 161ms/step - loss: 0.0154 - val_loss: 0.0266\n",
            "Epoch 35/50\n",
            "16/16 [==============================] - 3s 160ms/step - loss: 0.0149 - val_loss: 0.0240\n",
            "Epoch 36/50\n",
            "16/16 [==============================] - 3s 159ms/step - loss: 0.0149 - val_loss: 0.0245\n",
            "Epoch 37/50\n",
            "16/16 [==============================] - 3s 162ms/step - loss: 0.0147 - val_loss: 0.0235\n",
            "Epoch 38/50\n",
            "16/16 [==============================] - 3s 159ms/step - loss: 0.0149 - val_loss: 0.0248\n",
            "Epoch 39/50\n",
            "16/16 [==============================] - 3s 159ms/step - loss: 0.0147 - val_loss: 0.0235\n",
            "Epoch 40/50\n",
            "16/16 [==============================] - 3s 159ms/step - loss: 0.0151 - val_loss: 0.0255\n",
            "Epoch 41/50\n",
            "16/16 [==============================] - 3s 165ms/step - loss: 0.0148 - val_loss: 0.0234\n",
            "Epoch 42/50\n",
            "16/16 [==============================] - 3s 160ms/step - loss: 0.0150 - val_loss: 0.0251\n",
            "Epoch 43/50\n",
            "16/16 [==============================] - 3s 162ms/step - loss: 0.0147 - val_loss: 0.0233\n",
            "Epoch 44/50\n",
            "16/16 [==============================] - 3s 160ms/step - loss: 0.0149 - val_loss: 0.0248\n",
            "Epoch 45/50\n",
            "16/16 [==============================] - 3s 162ms/step - loss: 0.0147 - val_loss: 0.0231\n",
            "Epoch 46/50\n",
            "16/16 [==============================] - 3s 162ms/step - loss: 0.0148 - val_loss: 0.0245\n",
            "Epoch 47/50\n",
            "16/16 [==============================] - 3s 158ms/step - loss: 0.0146 - val_loss: 0.0229\n",
            "Epoch 48/50\n",
            "16/16 [==============================] - 3s 160ms/step - loss: 0.0148 - val_loss: 0.0247\n",
            "Epoch 49/50\n",
            "16/16 [==============================] - 3s 161ms/step - loss: 0.0147 - val_loss: 0.0229\n",
            "Epoch 50/50\n",
            "16/16 [==============================] - 3s 161ms/step - loss: 0.0148 - val_loss: 0.0247\n"
          ],
          "name": "stdout"
        }
      ]
    },
    {
      "cell_type": "code",
      "metadata": {
        "id": "3SwEZzx1ms9K",
        "colab_type": "code",
        "colab": {
          "base_uri": "https://localhost:8080/",
          "height": 52
        },
        "outputId": "54bbd503-161c-41e7-cb20-87cbeff85bd1"
      },
      "source": [
        "model.evaluate(X_test, y_test)"
      ],
      "execution_count": 14,
      "outputs": [
        {
          "output_type": "stream",
          "text": [
            "9/9 [==============================] - 0s 25ms/step - loss: 0.0058\n"
          ],
          "name": "stdout"
        },
        {
          "output_type": "execute_result",
          "data": {
            "text/plain": [
              "0.005795020144432783"
            ]
          },
          "metadata": {
            "tags": []
          },
          "execution_count": 14
        }
      ]
    },
    {
      "cell_type": "code",
      "metadata": {
        "id": "lhLip936out5",
        "colab_type": "code",
        "colab": {
          "base_uri": "https://localhost:8080/",
          "height": 427
        },
        "outputId": "3cce1adb-80b5-46dc-b559-a6639011bc5b"
      },
      "source": [
        "plt.figure(figsize=(8, 5))\n",
        "plt.plot(history.history['loss'])\n",
        "plt.plot(history.history['val_loss'])\n",
        "plt.title('Model Loss')\n",
        "plt.ylabel('Loss')\n",
        "plt.xlabel('Epoch')\n",
        "plt.legend(['Train', 'Test'], loc='upper right')\n",
        "plt.show()"
      ],
      "execution_count": 15,
      "outputs": [
        {
          "output_type": "execute_result",
          "data": {
            "text/plain": [
              "<Figure size 576x360 with 0 Axes>"
            ]
          },
          "metadata": {
            "tags": []
          },
          "execution_count": 15
        },
        {
          "output_type": "execute_result",
          "data": {
            "text/plain": [
              "[<matplotlib.lines.Line2D at 0x7f1e2ef5fe48>]"
            ]
          },
          "metadata": {
            "tags": []
          },
          "execution_count": 15
        },
        {
          "output_type": "execute_result",
          "data": {
            "text/plain": [
              "[<matplotlib.lines.Line2D at 0x7f1e2ef3cba8>]"
            ]
          },
          "metadata": {
            "tags": []
          },
          "execution_count": 15
        },
        {
          "output_type": "execute_result",
          "data": {
            "text/plain": [
              "Text(0.5, 1.0, 'Model Loss')"
            ]
          },
          "metadata": {
            "tags": []
          },
          "execution_count": 15
        },
        {
          "output_type": "execute_result",
          "data": {
            "text/plain": [
              "Text(0, 0.5, 'Loss')"
            ]
          },
          "metadata": {
            "tags": []
          },
          "execution_count": 15
        },
        {
          "output_type": "execute_result",
          "data": {
            "text/plain": [
              "Text(0.5, 0, 'Epoch')"
            ]
          },
          "metadata": {
            "tags": []
          },
          "execution_count": 15
        },
        {
          "output_type": "execute_result",
          "data": {
            "text/plain": [
              "<matplotlib.legend.Legend at 0x7f1e2ef4d7b8>"
            ]
          },
          "metadata": {
            "tags": []
          },
          "execution_count": 15
        },
        {
          "output_type": "display_data",
          "data": {
            "image/png": "[encoded data removed]",
            "text/plain": [
              "<Figure size 576x360 with 1 Axes>"
            ]
          },
          "metadata": {
            "tags": []
          }
        }
      ]
    },
    {
      "cell_type": "code",
      "metadata": {
        "id": "nyeQTH4f3kkn",
        "colab_type": "code",
        "colab": {
          "base_uri": "https://localhost:8080/",
          "height": 427
        },
        "outputId": "16c42e4f-90d3-4587-ced9-0636b770686f"
      },
      "source": [
        "y_hat = model.predict(X_test)\n",
        "\n",
        "y_test_inverse = scaler.inverse_transform(y_test)\n",
        "y_hat_inverse = scaler.inverse_transform(y_hat[:,0])\n",
        "\n",
        "plt.figure(figsize=(8, 5))\n",
        "plt.plot(y_test_inverse, label=\"Actual Price\", color='green')\n",
        "plt.plot(y_hat_inverse, label=\"Predicted Price\", color='red')\n",
        " \n",
        "plt.title('Bitcoin Price Prediction')\n",
        "plt.xlabel('Time [days]')\n",
        "plt.ylabel('Price')\n",
        "plt.legend(loc='upper right')\n",
        " \n",
        "plt.show()"
      ],
      "execution_count": 16,
      "outputs": [
        {
          "output_type": "execute_result",
          "data": {
            "text/plain": [
              "<Figure size 576x360 with 0 Axes>"
            ]
          },
          "metadata": {
            "tags": []
          },
          "execution_count": 16
        },
        {
          "output_type": "execute_result",
          "data": {
            "text/plain": [
              "[<matplotlib.lines.Line2D at 0x7f1e2ed714e0>]"
            ]
          },
          "metadata": {
            "tags": []
          },
          "execution_count": 16
        },
        {
          "output_type": "execute_result",
          "data": {
            "text/plain": [
              "[<matplotlib.lines.Line2D at 0x7f1e2ed42b70>]"
            ]
          },
          "metadata": {
            "tags": []
          },
          "execution_count": 16
        },
        {
          "output_type": "execute_result",
          "data": {
            "text/plain": [
              "Text(0.5, 1.0, 'Bitcoin Price Prediction')"
            ]
          },
          "metadata": {
            "tags": []
          },
          "execution_count": 16
        },
        {
          "output_type": "execute_result",
          "data": {
            "text/plain": [
              "Text(0.5, 0, 'Time [days]')"
            ]
          },
          "metadata": {
            "tags": []
          },
          "execution_count": 16
        },
        {
          "output_type": "execute_result",
          "data": {
            "text/plain": [
              "Text(0, 0.5, 'Price')"
            ]
          },
          "metadata": {
            "tags": []
          },
          "execution_count": 16
        },
        {
          "output_type": "execute_result",
          "data": {
            "text/plain": [
              "<matplotlib.legend.Legend at 0x7f1e2ed57e10>"
            ]
          },
          "metadata": {
            "tags": []
          },
          "execution_count": 16
        },
        {
          "output_type": "display_data",
          "data": {
            "image/png": "[encoded data removed]",
            "text/plain": [
              "<Figure size 576x360 with 1 Axes>"
            ]
          },
          "metadata": {
            "tags": []
          }
        }
      ]
    }
  ]
}